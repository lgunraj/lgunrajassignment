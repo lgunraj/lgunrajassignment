{
 "cells": [
  {
   "cell_type": "markdown",
   "id": "e08997a1-17f5-4f89-9288-55761416d874",
   "metadata": {},
   "source": [
    "# Data Science Tools and Ecosystem"
   ]
  },
  {
   "cell_type": "markdown",
   "id": "9c739c82-2bae-41a0-a0d9-9580b4131dc6",
   "metadata": {},
   "source": [
    "# Introduction\n",
    "In this notebook, data science tools and ecosystem are summarized"
   ]
  },
  {
   "cell_type": "markdown",
   "id": "c39471cc-3768-4128-880f-7df27e80cf84",
   "metadata": {},
   "source": [
    "## Objectives:\n",
    "* Popular data science languages\n",
    "* Common Data Science Libraries\n",
    "* Data Science Tools\n",
    "* Examples of arithmetic expressions "
   ]
  },
  {
   "cell_type": "markdown",
   "id": "edf9fe0f-d004-4423-97b6-b1eaf09ffeae",
   "metadata": {},
   "source": [
    "Some of the popular languages that data scientists use are:\n",
    "\n",
    "1. Python\n",
    "2. R\n",
    "3. SQL"
   ]
  },
  {
   "cell_type": "markdown",
   "id": "2ac18dc4-d6e2-423e-ac3b-8064d1149acb",
   "metadata": {},
   "source": [
    "Some of the commonly used libraries used by data scientists include:\n",
    "\n",
    "1. Pandas\n",
    "2. NumPy\n",
    "3. Seaborn"
   ]
  },
  {
   "cell_type": "markdown",
   "id": "bbfee39e-4b76-4297-a4bf-18b7e0cf8033",
   "metadata": {},
   "source": [
    "|Data Science Tools|\n",
    "|------------------|\n",
    "|Apache Spark      |\n",
    "| R                |\n",
    "|Python            |"
   ]
  },
  {
   "cell_type": "markdown",
   "id": "dd0e1e69-474e-458f-86a3-bc548220666b",
   "metadata": {},
   "source": [
    "### Below are a few examples of evaluating arithmetic expressions in python:"
   ]
  },
  {
   "cell_type": "code",
   "execution_count": 1,
   "id": "de212043-36c6-42e3-a3af-26b1d0d633b7",
   "metadata": {
    "tags": []
   },
   "outputs": [
    {
     "data": {
      "text/plain": [
       "17"
      ]
     },
     "execution_count": 1,
     "metadata": {},
     "output_type": "execute_result"
    }
   ],
   "source": [
    "# This is a simple arithmetic expression to multiply then add integers\n",
    "result=(3*4)+5\n",
    "result"
   ]
  },
  {
   "cell_type": "code",
   "execution_count": 3,
   "id": "0115f170-368b-4e2b-b33c-2eb567fce522",
   "metadata": {
    "tags": []
   },
   "outputs": [
    {
     "data": {
      "text/plain": [
       "3.3333333333333335"
      ]
     },
     "execution_count": 3,
     "metadata": {},
     "output_type": "execute_result"
    }
   ],
   "source": [
    "# This will convert 200 minutes into hours by dividing by 60\n",
    "minutes=200\n",
    "hours=minutes/60\n",
    "hours"
   ]
  },
  {
   "cell_type": "markdown",
   "id": "005c7e88-332e-4666-bdaf-6afa752e745b",
   "metadata": {},
   "source": [
    "## Author:\n",
    "\n",
    "Lloyd Gunraj"
   ]
  }
 ],
 "metadata": {
  "kernelspec": {
   "display_name": "Python",
   "language": "python",
   "name": "conda-env-python-py"
  },
  "language_info": {
   "codemirror_mode": {
    "name": "ipython",
    "version": 3
   },
   "file_extension": ".py",
   "mimetype": "text/x-python",
   "name": "python",
   "nbconvert_exporter": "python",
   "pygments_lexer": "ipython3",
   "version": "3.7.12"
  }
 },
 "nbformat": 4,
 "nbformat_minor": 5
}
